{
 "cells": [
  {
   "cell_type": "code",
   "execution_count": 74,
   "id": "7ee0ecf0-5160-413c-8db9-3861db874856",
   "metadata": {},
   "outputs": [],
   "source": [
    "import numpy as np\n",
    "import pandas as pd\n",
    "import matplotlib.pyplot as plt\n",
    "import seaborn as sns"
   ]
  },
  {
   "cell_type": "code",
   "execution_count": 75,
   "id": "75883c05-5c15-432d-9ab1-6e4047f27c94",
   "metadata": {},
   "outputs": [],
   "source": [
    "file_dist_test = open('../log/100k_500_5e-4_32x32/LOG_vec_inter_dist_test.txt', 'r')\n",
    "file_no_dist_test = open('../log/100k_500_5e-4_32x32/LOG_vec_inter_test.txt', 'r')"
   ]
  },
  {
   "cell_type": "code",
   "execution_count": 76,
   "id": "b35d0062-30bd-4c44-969c-df4fe5ee928c",
   "metadata": {},
   "outputs": [],
   "source": [
    "def read_runtime_opt_time_from_line(line):\n",
    "    words = line.split()\n",
    "    runtime = words[2]\n",
    "    opt_time = words[4]\n",
    "    \n",
    "    if words[-1] != \"enable\" and words[-1] != \"DIST\":\n",
    "        return float(opt_time), float(opt_time)\n",
    "    \n",
    "    return float(runtime), float(opt_time)"
   ]
  },
  {
   "cell_type": "code",
   "execution_count": 77,
   "id": "35fbf479-ba7d-4b37-9491-ec8e33f0fc3b",
   "metadata": {},
   "outputs": [],
   "source": [
    "runtimes1 = []\n",
    "runtimes2 = []\n",
    "opt_times = []\n",
    "\n",
    "for line in file_dist_test.readlines():\n",
    "    runtime, opt_time = read_runtime_opt_time_from_line(line)\n",
    "    runtimes1.append(runtime)\n",
    "    opt_times.append(opt_time)\n",
    "\n",
    "for line in file_no_dist_test.readlines():\n",
    "    runtime, _ = read_runtime_opt_time_from_line(line)\n",
    "    runtimes2.append(runtime) "
   ]
  },
  {
   "cell_type": "code",
   "execution_count": 78,
   "id": "b09acd53-d319-4ab1-903d-d6c50a24fe40",
   "metadata": {},
   "outputs": [],
   "source": [
    "rewards1 = []\n",
    "rewards2 = []\n",
    "\n",
    "for i in range(len(opt_times)):\n",
    "    rewards1.append((opt_times[i] - runtimes1[i]) / opt_times[i])\n",
    "    rewards2.append((opt_times[i] - runtimes2[i]) / opt_times[i])"
   ]
  },
  {
   "cell_type": "code",
   "execution_count": 79,
   "id": "51c471e7-a316-48c7-8481-38e907fc45fd",
   "metadata": {},
   "outputs": [
    {
     "data": {
      "text/html": [
       "<div>\n",
       "<style scoped>\n",
       "    .dataframe tbody tr th:only-of-type {\n",
       "        vertical-align: middle;\n",
       "    }\n",
       "\n",
       "    .dataframe tbody tr th {\n",
       "        vertical-align: top;\n",
       "    }\n",
       "\n",
       "    .dataframe thead th {\n",
       "        text-align: right;\n",
       "    }\n",
       "</style>\n",
       "<table border=\"1\" class=\"dataframe\">\n",
       "  <thead>\n",
       "    <tr style=\"text-align: right;\">\n",
       "      <th></th>\n",
       "      <th>test program</th>\n",
       "      <th>optimization</th>\n",
       "      <th>reward</th>\n",
       "    </tr>\n",
       "  </thead>\n",
       "  <tbody>\n",
       "    <tr>\n",
       "      <th>0</th>\n",
       "      <td>4</td>\n",
       "      <td>vectorize + distribute</td>\n",
       "      <td>-0.136364</td>\n",
       "    </tr>\n",
       "    <tr>\n",
       "      <th>1</th>\n",
       "      <td>4</td>\n",
       "      <td>vectorize</td>\n",
       "      <td>-0.022727</td>\n",
       "    </tr>\n",
       "    <tr>\n",
       "      <th>2</th>\n",
       "      <td>5</td>\n",
       "      <td>vectorize + distribute</td>\n",
       "      <td>0.042105</td>\n",
       "    </tr>\n",
       "    <tr>\n",
       "      <th>3</th>\n",
       "      <td>5</td>\n",
       "      <td>vectorize</td>\n",
       "      <td>0.059649</td>\n",
       "    </tr>\n",
       "    <tr>\n",
       "      <th>4</th>\n",
       "      <td>7</td>\n",
       "      <td>vectorize + distribute</td>\n",
       "      <td>-0.029885</td>\n",
       "    </tr>\n",
       "    <tr>\n",
       "      <th>...</th>\n",
       "      <td>...</td>\n",
       "      <td>...</td>\n",
       "      <td>...</td>\n",
       "    </tr>\n",
       "    <tr>\n",
       "      <th>73</th>\n",
       "      <td>96</td>\n",
       "      <td>vectorize</td>\n",
       "      <td>0.145374</td>\n",
       "    </tr>\n",
       "    <tr>\n",
       "      <th>74</th>\n",
       "      <td>97</td>\n",
       "      <td>vectorize + distribute</td>\n",
       "      <td>-0.023256</td>\n",
       "    </tr>\n",
       "    <tr>\n",
       "      <th>75</th>\n",
       "      <td>97</td>\n",
       "      <td>vectorize</td>\n",
       "      <td>-0.077519</td>\n",
       "    </tr>\n",
       "    <tr>\n",
       "      <th>76</th>\n",
       "      <td>98</td>\n",
       "      <td>vectorize + distribute</td>\n",
       "      <td>0.021739</td>\n",
       "    </tr>\n",
       "    <tr>\n",
       "      <th>77</th>\n",
       "      <td>98</td>\n",
       "      <td>vectorize</td>\n",
       "      <td>-0.079710</td>\n",
       "    </tr>\n",
       "  </tbody>\n",
       "</table>\n",
       "<p>78 rows × 3 columns</p>\n",
       "</div>"
      ],
      "text/plain": [
       "    test program            optimization    reward\n",
       "0              4  vectorize + distribute -0.136364\n",
       "1              4               vectorize -0.022727\n",
       "2              5  vectorize + distribute  0.042105\n",
       "3              5               vectorize  0.059649\n",
       "4              7  vectorize + distribute -0.029885\n",
       "..           ...                     ...       ...\n",
       "73            96               vectorize  0.145374\n",
       "74            97  vectorize + distribute -0.023256\n",
       "75            97               vectorize -0.077519\n",
       "76            98  vectorize + distribute  0.021739\n",
       "77            98               vectorize -0.079710\n",
       "\n",
       "[78 rows x 3 columns]"
      ]
     },
     "execution_count": 79,
     "metadata": {},
     "output_type": "execute_result"
    }
   ],
   "source": [
    "data = {'test program': [], 'optimization': [], 'reward': []}\n",
    "df = pd.DataFrame(data)\n",
    "\n",
    "for i in range(len(opt_times)):\n",
    "    if rewards1[i] == 0 or rewards2[i] == 0:\n",
    "        continue\n",
    "    df.loc[len(df.index)] = [i, 'vectorize + distribute', rewards1[i]]\n",
    "    df.loc[len(df.index)] = [i, 'vectorize', rewards2[i]]\n",
    "\n",
    "df"
   ]
  },
  {
   "cell_type": "code",
   "execution_count": 44,
   "id": "48f1538e-7918-4692-a6f8-beae0f0ae1f7",
   "metadata": {},
   "outputs": [
    {
     "data": {
      "text/plain": [
       "<AxesSubplot:xlabel='test program', ylabel='reward'>"
      ]
     },
     "execution_count": 44,
     "metadata": {},
     "output_type": "execute_result"
    },
    {
     "data": {
      "image/png": "[encoded data removed]",
      "text/plain": [
       "<Figure size 432x288 with 1 Axes>"
      ]
     },
     "metadata": {
      "needs_background": "light"
     },
     "output_type": "display_data"
    }
   ],
   "source": [
    "sns.barplot(data=df, x='test program', y='reward', hue='optimization')"
   ]
  },
  {
   "cell_type": "code",
   "execution_count": 80,
   "id": "db61650d-9137-4f4a-a234-4d2d33c8c8a2",
   "metadata": {},
   "outputs": [
    {
     "data": {
      "text/plain": [
       "21"
      ]
     },
     "execution_count": 80,
     "metadata": {},
     "output_type": "execute_result"
    }
   ],
   "source": [
    "count = 0\n",
    "for i in range(len(opt_times)):\n",
    "    if rewards1[i] > rewards2[i]:\n",
    "        count += 1\n",
    "count"
   ]
  },
  {
   "cell_type": "code",
   "execution_count": null,
   "id": "72c62b6d-5f44-4d0b-abd5-db810445d687",
   "metadata": {},
   "outputs": [],
   "source": []
  }
 ],
 "metadata": {
  "kernelspec": {
   "display_name": "Python 3 (ipykernel)",
   "language": "python",
   "name": "python3"
  },
  "language_info": {
   "codemirror_mode": {
    "name": "ipython",
    "version": 3
   },
   "file_extension": ".py",
   "mimetype": "text/x-python",
   "name": "python",
   "nbconvert_exporter": "python",
   "pygments_lexer": "ipython3",
   "version": "3.9.12"
  }
 },
 "nbformat": 4,
 "nbformat_minor": 5
}
